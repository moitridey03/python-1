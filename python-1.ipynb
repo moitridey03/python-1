{
 "cells": [
  {
   "cell_type": "markdown",
   "id": "84261abd-fc42-4805-9787-02f7be7a340f",
   "metadata": {},
   "source": [
    "Q1. What are the characteristics of the tuples? Is tuple immutable?"
   ]
  },
  {
   "cell_type": "markdown",
   "id": "9dca9d4f-ef46-4c0f-870b-2001765e98f5",
   "metadata": {},
   "source": [
    "Tuples are data structures in programming languages that are similar to lists. Here are the key characteristics of tuples:\n",
    "1.\tOrdered: Like lists, tuples are ordered collections of elements. Each element in a tuple has a specific position or index.\n",
    "2.\tHeterogeneous: Tuples can contain elements of different data types. For example, a tuple can have a combination of integers, strings, and other data types.\n",
    "3.\tImmutable: One of the main characteristics of tuples is that they are immutable. Once a tuple is created, you cannot modify its elements or size. This immutability makes tuples different from lists, which are mutable.\n",
    "Here's a brief example in Python to illustrate the immutability of tuples:\n",
    "# Creating a tuple\n",
    "my_tuple = (1, 2, 'hello', 3.14)\n",
    "\n",
    "# Accessing elements\n",
    "print(my_tuple[0])  # Output: 1\n",
    "\n",
    "# Attempting to modify a tuple will result in an error\n",
    "# Uncommenting the next line will raise a TypeError\n",
    "# my_tuple[0] = 10\n",
    "\n",
    "In the example above, trying to modify an element of the tuple (my_tuple[0] = 10) would result in a TypeError because tuples are immutable.\n"
   ]
  },
  {
   "cell_type": "markdown",
   "id": "686ff3bd-3dda-4242-a0c6-0bfeecc463bc",
   "metadata": {},
   "source": [
    "Q2. What are the two tuple methods in python? Give an example of each method. Give a reason why\n",
    "tuples have only two in-built methods as compared to Lists."
   ]
  },
  {
   "cell_type": "markdown",
   "id": "f12de601-a564-43c7-826f-b180c59fc2fb",
   "metadata": {},
   "source": [
    "In Python, tuples are immutable sequences, meaning they cannot be modified once created. Consequently, they offer limited methods compared to lists. The two built-in methods available for tuples are:\n",
    "\n",
    "count(): This method returns the number of occurrences of a specified value within the tuple.\n",
    "\n",
    "Example:"
   ]
  },
  {
   "cell_type": "markdown",
   "id": "a2a42751-99f3-4e69-a6a6-21445c24d57b",
   "metadata": {},
   "source": [
    "my_tuple = (1, 2, 3, 2, 4, 2)\n",
    "count = my_tuple.count(2)\n",
    "print(count)  # Output: 3\n"
   ]
  },
  {
   "cell_type": "markdown",
   "id": "7ac678aa-0e0c-48b2-bf0b-69c650ce379a",
   "metadata": {},
   "source": [
    "index(): This method returns the index of the first occurrence of a specified value within the tuple.\n",
    "\n",
    "Example:"
   ]
  },
  {
   "cell_type": "markdown",
   "id": "04c52179-81df-4c74-a2e2-8466f91619b0",
   "metadata": {},
   "source": [
    "my_tuple = ('a', 'b', 'c', 'd', 'e')\n",
    "index = my_tuple.index('c')\n",
    "print(index)  # Output: 2\n"
   ]
  },
  {
   "cell_type": "markdown",
   "id": "7d85166d-ab77-4578-9d10-fe2901fab2c0",
   "metadata": {},
   "source": [
    "Tuples have a restricted number of methods compared to lists due to their immutability. Lists, being mutable, support a wider range of operations such as appending, removing, and modifying elements. Consequently, lists offer methods like append(), remove(), insert(), and extend(), among others, to facilitate these operations. The limited functionality of tuples aligns with their intended purpose of representing immutable sequences of elements. This design choice in Python reflects the principle of providing specialized tools for specific use cases, ensuring clarity and efficiency in programming."
   ]
  },
  {
   "cell_type": "markdown",
   "id": "39b4ce1a-6b4b-4433-aa69-4b5566438356",
   "metadata": {},
   "source": [
    "Q3. Which collection datatypes in python do not allow duplicate items? Write a code using a set to remove\n",
    "duplicates from the given list.\n",
    "List = [1, 1, 1, 2, 1, 3, 1, 4, 2, 1, 2, 2, 2, 3, 2, 4, 3, 1, 3, 2, 3, 3, 3, 4, 4, 1, 4, 2, 4, 3, 4, 4]"
   ]
  },
  {
   "cell_type": "markdown",
   "id": "477059cc-849d-47f1-a39b-3eeb7b0b6c0e",
   "metadata": {},
   "source": [
    "In Python, the collection datatype that does not allow duplicate items is the set. A set is an unordered collection of unique elements. To remove duplicates from a given list using a set, you can convert the list to a set, which automatically eliminates duplicate elements, and then convert it back to a list if needed.\n",
    "\n",
    "Here's a code snippet to remove duplicates from the given list using a set:"
   ]
  },
  {
   "cell_type": "markdown",
   "id": "d9455874-8498-407e-9be3-b796906dc76f",
   "metadata": {},
   "source": [
    "given_list = [1, 1, 1, 2, 1, 3, 1, 4, 2, 1, 2, 2, 2, 3, 2, 4, 3, 1, 3, 2, 3, 3, 3, 4, 4, 1, 4, 2, 4, 3, 4, 4]\n",
    "unique_elements = set(given_list)\n",
    "# Convert set back to list if needed\n",
    "unique_list = list(unique_elements)\n"
   ]
  },
  {
   "cell_type": "markdown",
   "id": "47e16305-abd6-4f96-87cc-1ee7bf4c2770",
   "metadata": {},
   "source": [
    "After executing this code, the variable unique_list will contain the elements of the original list without any duplicates.\n",
    "\n",
    "\n",
    "\n",
    "\n"
   ]
  },
  {
   "cell_type": "markdown",
   "id": "e35480cb-90e5-423d-a263-70a9f3dd6146",
   "metadata": {},
   "source": [
    "Q4. Explain the difference between the union() and update() methods for a set. Give an example of\n",
    "each method."
   ]
  },
  {
   "cell_type": "markdown",
   "id": "ebb1e6b4-bf44-47bb-81ef-72344e3f37eb",
   "metadata": {},
   "source": [
    "The union() and update() methods in Python are both used to combine elements from multiple sets into a new set. However, they differ in their behavior and the way they handle the original sets.\n",
    "\n",
    "union() Method:\n",
    "\n",
    "The union() method returns a new set containing all the unique elements from the original sets.\n",
    "It does not modify the original sets.\n",
    "If there are duplicate elements between sets, they will be included only once in the resulting set.\n",
    "Example:"
   ]
  },
  {
   "cell_type": "markdown",
   "id": "9bfcd8b0-761d-4e21-a06a-cc7593057455",
   "metadata": {},
   "source": [
    "set1 = {1, 2, 3}\n",
    "set2 = {3, 4, 5}\n",
    "union_set = set1.union(set2)\n",
    "print(union_set)  # Output: {1, 2, 3, 4, 5}\n"
   ]
  },
  {
   "cell_type": "markdown",
   "id": "ab3a6a2b-2d02-4a36-a5e4-b55ae9a5e7c1",
   "metadata": {},
   "source": [
    "update() Method:\n",
    "\n",
    "The update() method modifies the set on which it is called by adding all the elements from one or more sets.\n",
    "It does not return a new set but updates the original set.\n",
    "Duplicate elements are ignored as sets contain only unique elements.\n",
    "Example:"
   ]
  },
  {
   "cell_type": "markdown",
   "id": "36d2e999-10a5-47fa-bb01-a9c382278599",
   "metadata": {},
   "source": [
    "set1 = {1, 2, 3}\n",
    "set2 = {3, 4, 5}\n",
    "set1.update(set2)\n",
    "print(set1)  # Output: {1, 2, 3, 4, 5}\n"
   ]
  },
  {
   "cell_type": "markdown",
   "id": "9745ded3-269d-4cad-80de-3b3c9f6a25a0",
   "metadata": {},
   "source": [
    "In summary, union() creates a new set containing elements from multiple sets without modifying the original sets, while update() modifies one set by adding elements from other sets.\n",
    "\n",
    "\n",
    "\n",
    "\n",
    "\n"
   ]
  },
  {
   "cell_type": "markdown",
   "id": "c8ea76ce-60e9-4c90-8338-2d8c82475930",
   "metadata": {},
   "source": [
    "Q5. What is a dictionary? Give an example. Also, state whether a dictionary is ordered or unordered."
   ]
  },
  {
   "cell_type": "markdown",
   "id": "758ba4fd-5cd8-407d-ab11-c170f037f014",
   "metadata": {},
   "source": [
    "A dictionary is a data structure in programming that stores a collection of key-value pairs. Each key is associated with a corresponding value, allowing for efficient retrieval of data based on its unique key. Dictionaries are commonly used for tasks such as mapping, indexing, and data lookup.\n",
    "\n",
    "An example of a dictionary in Python:"
   ]
  },
  {
   "cell_type": "markdown",
   "id": "3d26bbda-a68c-49b6-942c-9767de4589ef",
   "metadata": {},
   "source": [
    "my_dict = {'apple': 3, 'banana': 5, 'orange': 2}\n"
   ]
  },
  {
   "cell_type": "markdown",
   "id": "68fa74a0-3874-4129-b56a-e07a2225ce8e",
   "metadata": {},
   "source": [
    "In this example, 'apple', 'banana', and 'orange' are keys, each associated with a numerical value representing the quantity of the corresponding fruit.\n",
    "\n",
    "Whether a dictionary is ordered or unordered depends on the programming language and version. In Python versions prior to 3.7, dictionaries were unordered, meaning that the order of elements was not guaranteed. However, starting from Python 3.7, dictionaries maintain insertion order, effectively making them ordered. This means that in Python 3.7 and later versions, the order of elements in a dictionary is predictable and corresponds to the order in which elements were added. Other programming languages may have different implementations of dictionaries with varying degrees of ordering guarantees."
   ]
  },
  {
   "cell_type": "markdown",
   "id": "265ab0ad-606b-41b0-bd08-2b78824cc600",
   "metadata": {},
   "source": [
    "Q6. Can we create a nested dictionary? If so, please give an example by creating a simple one-level\n",
    "nested dictionary."
   ]
  },
  {
   "cell_type": "markdown",
   "id": "17f5e14e-a171-4ae9-a7c3-76ac0d9a3a13",
   "metadata": {},
   "source": [
    "Yes, it is indeed possible to create a nested dictionary in Python. A nested dictionary is a dictionary where the values can themselves be dictionaries. This allows for a hierarchical structure, useful for organizing and storing complex data.\n",
    "\n",
    "Below is an example of a simple one-level nested dictionary:"
   ]
  },
  {
   "cell_type": "markdown",
   "id": "3312a012-6736-4750-9128-d96a5a476a73",
   "metadata": {},
   "source": [
    "# Creating a nested dictionary\n",
    "nested_dict = {\n",
    "    'outer_key1': {\n",
    "        'inner_key1': 'value1',\n",
    "        'inner_key2': 'value2'\n",
    "    },\n",
    "    'outer_key2': {\n",
    "        'inner_key3': 'value3',\n",
    "        'inner_key4': 'value4'\n",
    "    }\n",
    "}\n",
    "\n",
    "# Accessing values in the nested dictionary\n",
    "print(nested_dict['outer_key1']['inner_key1'])  # Output: value1\n",
    "print(nested_dict['outer_key2']['inner_key4'])  # Output: value4\n"
   ]
  },
  {
   "cell_type": "markdown",
   "id": "99ceeae0-f202-413b-a64f-b49054b48a5c",
   "metadata": {},
   "source": [
    "In this example, nested_dict contains two outer keys, each mapped to another dictionary. These inner dictionaries contain key-value pairs, forming the nested structure. Accessing values in a nested dictionary involves chaining the keys together, as demonstrated in the print statements."
   ]
  },
  {
   "cell_type": "markdown",
   "id": "c201e85d-b834-4c88-8187-d27e7c76416d",
   "metadata": {},
   "source": [
    "Q7. Using setdefault() method, create key named topics in the given dictionary and also add the value of\n",
    "the key as this list ['Python', 'Machine Learning’, 'Deep Learning']\n",
    "dict1 = {'language' : 'Python', 'course': 'Data Science Masters'}"
   ]
  },
  {
   "cell_type": "markdown",
   "id": "be701fd6-4584-48e6-9114-38317673f6b6",
   "metadata": {},
   "source": [
    "To achieve the specified task of adding a key named \"topics\" with the corresponding list of values ['Python', 'Machine Learning', 'Deep Learning'] to the given dictionary using the setdefault() method, the following Python code can be employed:"
   ]
  },
  {
   "cell_type": "markdown",
   "id": "63470517-3bc5-4647-bbee-61130b26720d",
   "metadata": {},
   "source": [
    "dict1 = {'language': 'Python', 'course': 'Data Science Masters'}\n",
    "dict1.setdefault('topics', ['Python', 'Machine Learning', 'Deep Learning'])\n"
   ]
  },
  {
   "cell_type": "markdown",
   "id": "dd5f9f57-459b-4982-9ffb-9f2835ee9167",
   "metadata": {},
   "source": [
    "This code snippet utilizes the setdefault() method to insert the key \"topics\" into the dictionary dict1 if it doesn't already exist, with the specified list of values ['Python', 'Machine Learning', 'Deep Learning']. If the key already exists, the method does not modify the dictionary. Therefore, after executing this code, the dictionary dict1 will have the \"topics\" key with the provided list as its value."
   ]
  },
  {
   "cell_type": "markdown",
   "id": "218bf067-bf1b-4e66-8252-51a610aae5d9",
   "metadata": {},
   "source": [
    "Q8. What are the three view objects in dictionaries? Use the three in-built methods in python to display\n",
    "these three view objects for the given dictionary.\n",
    "dict1 = {'Sport': 'Cricket' , 'Teams': ['India', 'Australia', 'England', 'South Africa', 'Sri Lanka', 'New Zealand']}"
   ]
  },
  {
   "cell_type": "markdown",
   "id": "c310cad0-68f4-4a75-a633-0e1aa5eb5a73",
   "metadata": {},
   "source": [
    "In Python dictionaries, there are three view objects: dict_keys, dict_values, and dict_items. These objects provide dynamic views of the dictionary's keys, values, and key-value pairs respectively. To display these view objects for the given dictionary dict1, we can utilize the following built-in methods:\n",
    "\n",
    "keys(): This method returns a view object that displays a dynamic view of the dictionary's keys.\n",
    "values(): This method returns a view object that displays a dynamic view of the dictionary's values.\n",
    "items(): This method returns a view object that displays a dynamic view of the dictionary's key-value pairs.\n",
    "Here's how we can use these methods to display the view objects for the given dictionary dict1:"
   ]
  },
  {
   "cell_type": "markdown",
   "id": "79c25b71-0002-46dd-9d5b-30189764cf0f",
   "metadata": {},
   "source": [
    "dict1 = {'Sport': 'Cricket', 'Teams': ['India', 'Australia', 'England', 'South Africa', 'Sri Lanka', 'New Zealand']}\n",
    "\n",
    "# Displaying dict_keys object\n",
    "keys_view = dict1.keys()\n",
    "print(\"View object for dictionary keys:\", keys_view)\n",
    "\n",
    "# Displaying dict_values object\n",
    "values_view = dict1.values()\n",
    "print(\"View object for dictionary values:\", values_view)\n",
    "\n",
    "# Displaying dict_items object\n",
    "items_view = dict1.items()\n",
    "print(\"View object for dictionary items:\", items_view)\n"
   ]
  },
  {
   "cell_type": "markdown",
   "id": "cff05a81-7b7d-4770-a7ed-fe09ad72ecc4",
   "metadata": {},
   "source": [
    "This code will output the view objects for the keys, values, and items of the dictionary dict1."
   ]
  }
 ],
 "metadata": {
  "kernelspec": {
   "display_name": "Python 3 (ipykernel)",
   "language": "python",
   "name": "python3"
  },
  "language_info": {
   "codemirror_mode": {
    "name": "ipython",
    "version": 3
   },
   "file_extension": ".py",
   "mimetype": "text/x-python",
   "name": "python",
   "nbconvert_exporter": "python",
   "pygments_lexer": "ipython3",
   "version": "3.10.8"
  }
 },
 "nbformat": 4,
 "nbformat_minor": 5
}
